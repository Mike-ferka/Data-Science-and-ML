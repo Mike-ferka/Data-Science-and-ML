{
 "cells": [
  {
   "cell_type": "code",
   "execution_count": 1,
   "id": "160b8dfa",
   "metadata": {},
   "outputs": [
    {
     "name": "stdout",
     "output_type": "stream",
     "text": [
      "   name  age    food\n",
      "0  Mike   20  Acheke\n",
      "1  Kofi   25    Rice\n",
      "2   Joe   30   Banku\n",
      "3  Jack   16  Jollof\n"
     ]
    }
   ],
   "source": [
    "import pandas as pd\n",
    "d={'name':[\"Mike\",\"Kofi\",\"Joe\",\"Jack\"],'age':[20,25,30,16],'food':[\"Acheke\",\"Rice\",\"Banku\",\"Jollof\"]}\n",
    "df=pd.DataFrame(data=d)\n",
    "print(df)"
   ]
  },
  {
   "cell_type": "code",
   "execution_count": null,
   "id": "00e9301f",
   "metadata": {},
   "outputs": [],
   "source": []
  },
  {
   "cell_type": "code",
   "execution_count": 2,
   "id": "09d36dd8",
   "metadata": {},
   "outputs": [
    {
     "name": "stdout",
     "output_type": "stream",
     "text": [
      "3\n"
     ]
    }
   ],
   "source": [
    "print(df.shape[1])"
   ]
  },
  {
   "cell_type": "code",
   "execution_count": 3,
   "id": "b046821b",
   "metadata": {},
   "outputs": [
    {
     "name": "stdout",
     "output_type": "stream",
     "text": [
      "4\n"
     ]
    }
   ],
   "source": [
    "print(df.shape[0])"
   ]
  },
  {
   "cell_type": "code",
   "execution_count": 4,
   "id": "9225cd6b",
   "metadata": {},
   "outputs": [
    {
     "name": "stdout",
     "output_type": "stream",
     "text": [
      "240\n"
     ]
    }
   ],
   "source": [
    "sd=[240, 250, 260, 270, 280, 290, 300, 310, 320, 330]\n",
    "\n",
    "print(min(240, 250, 260, 270, 280, 290, 300, 310, 320, 330))"
   ]
  },
  {
   "cell_type": "code",
   "execution_count": 5,
   "id": "7fe553e7",
   "metadata": {},
   "outputs": [
    {
     "name": "stdout",
     "output_type": "stream",
     "text": [
      "330\n"
     ]
    }
   ],
   "source": [
    "print(max(240, 250, 260, 270, 280, 290, 300, 310, 320, 330))"
   ]
  },
  {
   "cell_type": "code",
   "execution_count": 6,
   "id": "de80397c",
   "metadata": {},
   "outputs": [
    {
     "name": "stdout",
     "output_type": "stream",
     "text": [
      "285.0\n"
     ]
    }
   ],
   "source": [
    "import numpy as np\n",
    "print(np.mean(sd))"
   ]
  },
  {
   "cell_type": "code",
   "execution_count": 7,
   "id": "12040f63",
   "metadata": {},
   "outputs": [
    {
     "name": "stdout",
     "output_type": "stream",
     "text": [
      "   temperature  humidity  soilmoisture  sunlight  rain      time        date\n",
      "0         26.6        59             0  25.79668     1  00:00:00  1970-01-01\n",
      "1         26.4        52            30  23.85142     8  00:00:02  1970-01-01\n",
      "2         27.2        51            24   3.91007     7  00:00:04  1970-01-01\n",
      "3         27.5        75             0  23.88563    30  00:00:05  1970-01-01\n",
      "4         27.0        73           100  13.09873    94  00:00:06  1970-01-01\n"
     ]
    }
   ],
   "source": [
    "data=pd.read_csv('sensor_data.csv',header=0,sep=\",\")\n",
    "print(data.head())"
   ]
  },
  {
   "cell_type": "code",
   "execution_count": 8,
   "id": "6996f96c",
   "metadata": {},
   "outputs": [
    {
     "name": "stdout",
     "output_type": "stream",
     "text": [
      "       temperature  humidity  soilmoisture  sunlight  rain      time  \\\n",
      "0             26.6        59             0  25.79668     1  00:00:00   \n",
      "1             26.4        52            30  23.85142     8  00:00:02   \n",
      "2             27.2        51            24   3.91007     7  00:00:04   \n",
      "3             27.5        75             0  23.88563    30  00:00:05   \n",
      "4             27.0        73           100  13.09873    94  00:00:06   \n",
      "...            ...       ...           ...       ...   ...       ...   \n",
      "17916         26.6        76             9   9.97067     4  21:13:12   \n",
      "17917         26.6        76            10   9.09091     4  21:13:13   \n",
      "17918         26.6        76             9   8.40665     4  21:13:14   \n",
      "17919         26.6        76            20   8.60215     4  21:13:15   \n",
      "17920         26.6        76            10   8.21114     4  21:13:16   \n",
      "\n",
      "             date  \n",
      "0      1970-01-01  \n",
      "1      1970-01-01  \n",
      "2      1970-01-01  \n",
      "3      1970-01-01  \n",
      "4      1970-01-01  \n",
      "...           ...  \n",
      "17916  2024-07-28  \n",
      "17917  2024-07-28  \n",
      "17918  2024-07-28  \n",
      "17919  2024-07-28  \n",
      "17920  2024-07-28  \n",
      "\n",
      "[17921 rows x 7 columns]\n"
     ]
    }
   ],
   "source": [
    "df=pd.DataFrame(data)\n",
    "print(df)"
   ]
  },
  {
   "cell_type": "code",
   "execution_count": 9,
   "id": "d22dd666",
   "metadata": {},
   "outputs": [],
   "source": [
    "df.dropna(axis=0, inplace=True)"
   ]
  },
  {
   "cell_type": "code",
   "execution_count": 10,
   "id": "0274a3e3",
   "metadata": {},
   "outputs": [
    {
     "name": "stdout",
     "output_type": "stream",
     "text": [
      "       temperature  humidity  soilmoisture  sunlight  rain      time  \\\n",
      "0             26.6        59             0  25.79668     1  00:00:00   \n",
      "1             26.4        52            30  23.85142     8  00:00:02   \n",
      "2             27.2        51            24   3.91007     7  00:00:04   \n",
      "3             27.5        75             0  23.88563    30  00:00:05   \n",
      "4             27.0        73           100  13.09873    94  00:00:06   \n",
      "...            ...       ...           ...       ...   ...       ...   \n",
      "17916         26.6        76             9   9.97067     4  21:13:12   \n",
      "17917         26.6        76            10   9.09091     4  21:13:13   \n",
      "17918         26.6        76             9   8.40665     4  21:13:14   \n",
      "17919         26.6        76            20   8.60215     4  21:13:15   \n",
      "17920         26.6        76            10   8.21114     4  21:13:16   \n",
      "\n",
      "             date  \n",
      "0      1970-01-01  \n",
      "1      1970-01-01  \n",
      "2      1970-01-01  \n",
      "3      1970-01-01  \n",
      "4      1970-01-01  \n",
      "...           ...  \n",
      "17916  2024-07-28  \n",
      "17917  2024-07-28  \n",
      "17918  2024-07-28  \n",
      "17919  2024-07-28  \n",
      "17920  2024-07-28  \n",
      "\n",
      "[17921 rows x 7 columns]\n"
     ]
    }
   ],
   "source": [
    "print(df)"
   ]
  },
  {
   "cell_type": "code",
   "execution_count": 11,
   "id": "61563232",
   "metadata": {},
   "outputs": [
    {
     "name": "stdout",
     "output_type": "stream",
     "text": [
      "<class 'pandas.core.frame.DataFrame'>\n",
      "RangeIndex: 17921 entries, 0 to 17920\n",
      "Data columns (total 7 columns):\n",
      " #   Column        Non-Null Count  Dtype  \n",
      "---  ------        --------------  -----  \n",
      " 0   temperature   17921 non-null  float64\n",
      " 1   humidity      17921 non-null  int64  \n",
      " 2   soilmoisture  17921 non-null  int64  \n",
      " 3   sunlight      17921 non-null  float64\n",
      " 4   rain          17921 non-null  int64  \n",
      " 5   time          17921 non-null  object \n",
      " 6   date          17921 non-null  object \n",
      "dtypes: float64(2), int64(3), object(2)\n",
      "memory usage: 980.2+ KB\n"
     ]
    }
   ],
   "source": [
    "df.info()"
   ]
  },
  {
   "cell_type": "code",
   "execution_count": 12,
   "id": "aabb0959",
   "metadata": {},
   "outputs": [],
   "source": [
    "# Ensure 'date' column is in datetime format\n",
    "data['date'] = pd.to_datetime(data['date'], errors='coerce')\n",
    "\n",
    "# Convert to Unix timestamp (seconds since '1970-01-01')\n",
    "data['date'] = data['date'].astype('int64') // 10**9\n",
    "\n",
    "# Alternatively, to convert to days since '1970-01-01':\n",
    "# data['date'] = (data['date'] - pd.Timestamp('1970-01-01')) // pd.Timedelta('1D')"
   ]
  },
  {
   "cell_type": "code",
   "execution_count": 13,
   "id": "0b9ceaaf",
   "metadata": {},
   "outputs": [
    {
     "name": "stdout",
     "output_type": "stream",
     "text": [
      "<class 'pandas.core.frame.DataFrame'>\n",
      "RangeIndex: 17921 entries, 0 to 17920\n",
      "Data columns (total 7 columns):\n",
      " #   Column        Non-Null Count  Dtype  \n",
      "---  ------        --------------  -----  \n",
      " 0   temperature   17921 non-null  float64\n",
      " 1   humidity      17921 non-null  int64  \n",
      " 2   soilmoisture  17921 non-null  int64  \n",
      " 3   sunlight      17921 non-null  float64\n",
      " 4   rain          17921 non-null  int64  \n",
      " 5   time          17921 non-null  object \n",
      " 6   date          17921 non-null  int64  \n",
      "dtypes: float64(2), int64(4), object(1)\n",
      "memory usage: 980.2+ KB\n"
     ]
    }
   ],
   "source": [
    "data.info()"
   ]
  },
  {
   "cell_type": "code",
   "execution_count": 14,
   "id": "a121c41e",
   "metadata": {},
   "outputs": [
    {
     "data": {
      "text/html": [
       "<div>\n",
       "<style scoped>\n",
       "    .dataframe tbody tr th:only-of-type {\n",
       "        vertical-align: middle;\n",
       "    }\n",
       "\n",
       "    .dataframe tbody tr th {\n",
       "        vertical-align: top;\n",
       "    }\n",
       "\n",
       "    .dataframe thead th {\n",
       "        text-align: right;\n",
       "    }\n",
       "</style>\n",
       "<table border=\"1\" class=\"dataframe\">\n",
       "  <thead>\n",
       "    <tr style=\"text-align: right;\">\n",
       "      <th></th>\n",
       "      <th>temperature</th>\n",
       "      <th>humidity</th>\n",
       "      <th>soilmoisture</th>\n",
       "      <th>sunlight</th>\n",
       "      <th>rain</th>\n",
       "    </tr>\n",
       "  </thead>\n",
       "  <tbody>\n",
       "    <tr>\n",
       "      <th>count</th>\n",
       "      <td>17921.000000</td>\n",
       "      <td>17921.000000</td>\n",
       "      <td>17921.000000</td>\n",
       "      <td>17921.000000</td>\n",
       "      <td>17921.000000</td>\n",
       "    </tr>\n",
       "    <tr>\n",
       "      <th>mean</th>\n",
       "      <td>26.448585</td>\n",
       "      <td>73.157301</td>\n",
       "      <td>19.817365</td>\n",
       "      <td>21.837816</td>\n",
       "      <td>9.568718</td>\n",
       "    </tr>\n",
       "    <tr>\n",
       "      <th>std</th>\n",
       "      <td>0.504380</td>\n",
       "      <td>8.707299</td>\n",
       "      <td>16.513221</td>\n",
       "      <td>7.914876</td>\n",
       "      <td>24.309573</td>\n",
       "    </tr>\n",
       "    <tr>\n",
       "      <th>min</th>\n",
       "      <td>25.400000</td>\n",
       "      <td>50.000000</td>\n",
       "      <td>0.000000</td>\n",
       "      <td>1.368520</td>\n",
       "      <td>0.000000</td>\n",
       "    </tr>\n",
       "    <tr>\n",
       "      <th>25%</th>\n",
       "      <td>26.100000</td>\n",
       "      <td>73.000000</td>\n",
       "      <td>11.000000</td>\n",
       "      <td>17.090320</td>\n",
       "      <td>1.000000</td>\n",
       "    </tr>\n",
       "    <tr>\n",
       "      <th>50%</th>\n",
       "      <td>26.500000</td>\n",
       "      <td>76.000000</td>\n",
       "      <td>16.000000</td>\n",
       "      <td>25.786900</td>\n",
       "      <td>1.000000</td>\n",
       "    </tr>\n",
       "    <tr>\n",
       "      <th>75%</th>\n",
       "      <td>26.800000</td>\n",
       "      <td>79.000000</td>\n",
       "      <td>22.000000</td>\n",
       "      <td>25.835780</td>\n",
       "      <td>5.000000</td>\n",
       "    </tr>\n",
       "    <tr>\n",
       "      <th>max</th>\n",
       "      <td>28.900000</td>\n",
       "      <td>82.000000</td>\n",
       "      <td>100.000000</td>\n",
       "      <td>91.300090</td>\n",
       "      <td>100.000000</td>\n",
       "    </tr>\n",
       "  </tbody>\n",
       "</table>\n",
       "</div>"
      ],
      "text/plain": [
       "        temperature      humidity  soilmoisture      sunlight          rain\n",
       "count  17921.000000  17921.000000  17921.000000  17921.000000  17921.000000\n",
       "mean      26.448585     73.157301     19.817365     21.837816      9.568718\n",
       "std        0.504380      8.707299     16.513221      7.914876     24.309573\n",
       "min       25.400000     50.000000      0.000000      1.368520      0.000000\n",
       "25%       26.100000     73.000000     11.000000     17.090320      1.000000\n",
       "50%       26.500000     76.000000     16.000000     25.786900      1.000000\n",
       "75%       26.800000     79.000000     22.000000     25.835780      5.000000\n",
       "max       28.900000     82.000000    100.000000     91.300090    100.000000"
      ]
     },
     "execution_count": 14,
     "metadata": {},
     "output_type": "execute_result"
    }
   ],
   "source": [
    "df.describe()"
   ]
  },
  {
   "cell_type": "code",
   "execution_count": 15,
   "id": "c27d1d23",
   "metadata": {},
   "outputs": [],
   "source": [
    "import matplotlib.pyplot as plt"
   ]
  },
  {
   "cell_type": "code",
   "execution_count": 21,
   "id": "8597d827",
   "metadata": {},
   "outputs": [
    {
     "data": {
      "image/png": "[encoded data removed]",
      "text/plain": [
       "<Figure size 640x480 with 1 Axes>"
      ]
     },
     "metadata": {},
     "output_type": "display_data"
    }
   ],
   "source": [
    "df.plot(x='humidity', y='temperature', kind='line'),\n",
    "plt.ylim(ymin=0)\n",
    "plt.xlim(xmin=0)\n",
    "plt.show()\n",
    "\n",
    "\n",
    "\n"
   ]
  },
  {
   "cell_type": "markdown",
   "id": "6360efff",
   "metadata": {},
   "source": [
    "# Finding Intercept and slope"
   ]
  },
  {
   "cell_type": "markdown",
   "id": "7fbdcdf7",
   "metadata": {},
   "source": [
    "Isolate the variables humidity (x) and temperature (y) from data.\n",
    "Call the np.polyfit() function.\n",
    "The last parameter of the function specifies the degree of the function, which in this case is \"1\""
   ]
  },
  {
   "cell_type": "markdown",
   "id": "ec0cd744",
   "metadata": {},
   "source": [
    "Tip: linear functions = 1.degree function. In our example, the function is linear, which is in the 1.degree.\n",
    "    That means that all coefficients (the numbers) are in the power of one"
   ]
  },
  {
   "cell_type": "code",
   "execution_count": 19,
   "id": "3dd8d873",
   "metadata": {},
   "outputs": [],
   "source": [
    "x=data['humidity']  \n",
    "y=data['temperature']"
   ]
  },
  {
   "cell_type": "code",
   "execution_count": 20,
   "id": "5f97226c",
   "metadata": {},
   "outputs": [
    {
     "name": "stdout",
     "output_type": "stream",
     "text": [
      "[-1.79636506e-02  2.77627577e+01]\n"
     ]
    }
   ],
   "source": [
    "slope_intercept=np.polyfit(x,y,1)\n",
    "print(slope_intercept)"
   ]
  },
  {
   "cell_type": "markdown",
   "id": "3c6dd507",
   "metadata": {},
   "source": [
    "Now we can write the function as\n",
    "f(x)=-1.796x + 2.776\n",
    "We can now predict temperature when humidity is like say 100\n",
    "f(100)=-1.796(100) + 2.776 = -176.824"
   ]
  },
  {
   "cell_type": "markdown",
   "id": "ee43072c",
   "metadata": {},
   "source": [
    "# Predicting f(x) using python"
   ]
  },
  {
   "cell_type": "code",
   "execution_count": 23,
   "id": "d2e01180",
   "metadata": {},
   "outputs": [],
   "source": [
    "def predict(x):\n",
    "    return(-1.796*x + 2.776)"
   ]
  },
  {
   "cell_type": "code",
   "execution_count": 24,
   "id": "1a3ddef7",
   "metadata": {},
   "outputs": [
    {
     "name": "stdout",
     "output_type": "stream",
     "text": [
      "-176.82399999999998\n"
     ]
    }
   ],
   "source": [
    "print(predict(100))"
   ]
  },
  {
   "cell_type": "code",
   "execution_count": 25,
   "id": "793497db",
   "metadata": {},
   "outputs": [
    {
     "name": "stdout",
     "output_type": "stream",
     "text": [
      "-356.424\n"
     ]
    }
   ],
   "source": [
    "print(predict(200))"
   ]
  },
  {
   "cell_type": "code",
   "execution_count": 26,
   "id": "d965a063",
   "metadata": {},
   "outputs": [
    {
     "name": "stdout",
     "output_type": "stream",
     "text": [
      "-0.8160000000000003\n"
     ]
    }
   ],
   "source": [
    "print(predict(2))"
   ]
  },
  {
   "cell_type": "markdown",
   "id": "d94471cf",
   "metadata": {},
   "source": [
    "# Introduction to Statistics"
   ]
  },
  {
   "cell_type": "markdown",
   "id": "dba0dfe7",
   "metadata": {},
   "source": [
    "Statistics is the science of analyzing data.\n",
    "\n",
    "When we have created a model for prediction, we must assess the prediction's reliability.\n",
    "\n",
    "After all, what is a prediction worth, if we cannot rely on it?"
   ]
  },
  {
   "cell_type": "raw",
   "id": "1dce99d2",
   "metadata": {},
   "source": [
    "Descriptive Statistics\n",
    "\n",
    "Descriptive statistics summarizes important features of a data set such as:\n",
    "\n",
    "Count,\n",
    "Sum,\n",
    "Standard Deviation,\n",
    "Percentile,\n",
    "Average,\n",
    "Etc..\n",
    "\n",
    "We can use the describe() function in Python to summarize the data:"
   ]
  },
  {
   "cell_type": "code",
   "execution_count": 27,
   "id": "9374edad",
   "metadata": {},
   "outputs": [
    {
     "name": "stdout",
     "output_type": "stream",
     "text": [
      "        temperature      humidity  soilmoisture      sunlight          rain  \\\n",
      "count  17921.000000  17921.000000  17921.000000  17921.000000  17921.000000   \n",
      "mean      26.448585     73.157301     19.817365     21.837816      9.568718   \n",
      "std        0.504380      8.707299     16.513221      7.914876     24.309573   \n",
      "min       25.400000     50.000000      0.000000      1.368520      0.000000   \n",
      "25%       26.100000     73.000000     11.000000     17.090320      1.000000   \n",
      "50%       26.500000     76.000000     16.000000     25.786900      1.000000   \n",
      "75%       26.800000     79.000000     22.000000     25.835780      5.000000   \n",
      "max       28.900000     82.000000    100.000000     91.300090    100.000000   \n",
      "\n",
      "               date  \n",
      "count  1.792100e+04  \n",
      "mean   1.720374e+09  \n",
      "std    4.453515e+07  \n",
      "min    0.000000e+00  \n",
      "25%    1.721261e+09  \n",
      "50%    1.721261e+09  \n",
      "75%    1.721693e+09  \n",
      "max    1.722125e+09  \n"
     ]
    }
   ],
   "source": [
    "print(data.describe())"
   ]
  },
  {
   "cell_type": "code",
   "execution_count": null,
   "id": "bd702145",
   "metadata": {},
   "outputs": [],
   "source": []
  }
 ],
 "metadata": {
  "kernelspec": {
   "display_name": "Python 3 (ipykernel)",
   "language": "python",
   "name": "python3"
  },
  "language_info": {
   "codemirror_mode": {
    "name": "ipython",
    "version": 3
   },
   "file_extension": ".py",
   "mimetype": "text/x-python",
   "name": "python",
   "nbconvert_exporter": "python",
   "pygments_lexer": "ipython3",
   "version": "3.11.4"
  }
 },
 "nbformat": 4,
 "nbformat_minor": 5
}
